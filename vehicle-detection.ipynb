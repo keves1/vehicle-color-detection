{
 "cells": [
  {
   "cell_type": "code",
   "execution_count": null,
   "id": "2274eb2b",
   "metadata": {},
   "outputs": [],
   "source": [
    "import mmcv\n",
    "from mmcv.runner import load_checkpoint\n",
    "\n",
    "from mmdet.apis import inference_detector, show_result_pyplot\n",
    "from mmrotate.models import build_detector"
   ]
  },
  {
   "cell_type": "code",
   "execution_count": null,
   "id": "210d8d0c",
   "metadata": {},
   "outputs": [],
   "source": [
    "!mim download mmrotate --config oriented_rcnn_r50_fpn_1x_dota_le90 --dest ."
   ]
  },
  {
   "cell_type": "code",
   "execution_count": null,
   "id": "08c552e7",
   "metadata": {},
   "outputs": [],
   "source": [
    "# Choose to use a config and initialize the detector\n",
    "config = 'oriented_rcnn_r50_fpn_1x_dota_le90.py'\n",
    "# Setup a checkpoint file to load\n",
    "checkpoint = 'oriented_rcnn_r50_fpn_1x_dota_le90-6d2b2ce0.pth'\n",
    "\n",
    "# Set the device to be used for evaluation\n",
    "device='cpu'\n",
    "\n",
    "# Load the config\n",
    "config = mmcv.Config.fromfile(config)\n",
    "# Set pretrained to be None since we do not need pretrained model here\n",
    "config.model.pretrained = None\n",
    "\n",
    "# Initialize the detector\n",
    "model = build_detector(config.model)\n",
    "\n",
    "# Load checkpoint\n",
    "checkpoint = load_checkpoint(model, checkpoint, map_location=device)\n",
    "\n",
    "# Set the classes of models for inference\n",
    "model.CLASSES = checkpoint['meta']['CLASSES']\n",
    "\n",
    "# We need to set the model's cfg for inference\n",
    "model.cfg = config\n",
    "\n",
    "# Convert the model to GPU\n",
    "model.to(device)\n",
    "# Convert the model into evaluation mode\n",
    "model.eval()"
   ]
  },
  {
   "cell_type": "code",
   "execution_count": null,
   "id": "81e63a34",
   "metadata": {},
   "outputs": [],
   "source": [
    "# Use the detector to do inference\n",
    "img = 'data/2.png'\n",
    "result = inference_detector(model, img)"
   ]
  },
  {
   "cell_type": "code",
   "execution_count": null,
   "id": "e3c74689",
   "metadata": {},
   "outputs": [],
   "source": [
    "result"
   ]
  },
  {
   "cell_type": "code",
   "execution_count": null,
   "id": "805bd76a",
   "metadata": {},
   "outputs": [],
   "source": [
    "show_result_pyplot(model, img, result, score_thr=0.3, palette='dota')"
   ]
  },
  {
   "cell_type": "code",
   "execution_count": null,
   "id": "fc4b67ee",
   "metadata": {},
   "outputs": [],
   "source": [
    "model.CLASSES"
   ]
  },
  {
   "cell_type": "code",
   "execution_count": null,
   "id": "5c147604",
   "metadata": {},
   "outputs": [],
   "source": [
    "result[4]"
   ]
  }
 ],
 "metadata": {
  "kernelspec": {
   "display_name": "vehicle-detect",
   "language": "python",
   "name": "python3"
  },
  "language_info": {
   "codemirror_mode": {
    "name": "ipython",
    "version": 3
   },
   "file_extension": ".py",
   "mimetype": "text/x-python",
   "name": "python",
   "nbconvert_exporter": "python",
   "pygments_lexer": "ipython3",
   "version": "3.8.20"
  }
 },
 "nbformat": 4,
 "nbformat_minor": 5
}
